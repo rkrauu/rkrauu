{
  "nbformat": 4,
  "nbformat_minor": 0,
  "metadata": {
    "colab": {
      "provenance": [],
      "mount_file_id": "1VBcjBheoON4WpVfEcmcC1ZSeJ46wc_M-",
      "authorship_tag": "ABX9TyNZrZ+PG7f/pAMdBE15dgvY",
      "include_colab_link": true
    },
    "kernelspec": {
      "name": "python3",
      "display_name": "Python 3"
    },
    "language_info": {
      "name": "python"
    }
  },
  "cells": [
    {
      "cell_type": "markdown",
      "metadata": {
        "id": "view-in-github",
        "colab_type": "text"
      },
      "source": [
        "<a href=\"https://colab.research.google.com/github/rkrauu/rkrauu/blob/main/Email.ipynb\" target=\"_parent\"><img src=\"https://colab.research.google.com/assets/colab-badge.svg\" alt=\"Open In Colab\"/></a>"
      ]
    },
    {
      "cell_type": "code",
      "source": [
        "import smtplib\n",
        "from email.mime.multipart import MIMEMultipart\n",
        "from email.mime.text import MIMEText"
      ],
      "metadata": {
        "id": "UrzbPdWolutW"
      },
      "execution_count": null,
      "outputs": []
    },
    {
      "cell_type": "code",
      "source": [
        "import json\n",
        "\n",
        "with open('config.json') as f:\n",
        "    config = json.load(f)\n",
        "\n",
        "api_key = config\n",
        "\n",
        "encoded_data = str(api_key).encode()\n",
        "decoded_data = encoded_data.decode()"
      ],
      "metadata": {
        "id": "qHA1sKE2l1X8"
      },
      "execution_count": null,
      "outputs": []
    },
    {
      "cell_type": "code",
      "source": [
        "sender_email = decoded_data\n",
        "password = decoded_data\n",
        "\n",
        "recipients = [\n",
        "    \"sampurnsandesh@gmail.com\"\n",
        "]"
      ],
      "metadata": {
        "id": "Doq3bA6YrYZd"
      },
      "execution_count": null,
      "outputs": []
    },
    {
      "cell_type": "code",
      "source": [
        "subject = \"Test email\"\n",
        "body = \"\"\"\n",
        "Hello,\n",
        "\n",
        "This is a test email sent from Python script.\n",
        "\n",
        "Best regards,\n",
        "Your Name\n",
        "\n",
        "\"\"\"\n",
        "\n",
        "smtp_server = \"smtp.gmail.com\"\n",
        "port = 587  # For starttls\n",
        "\n",
        "def send_email(recipient_email):\n",
        "    try:\n",
        "        # Create the email message\n",
        "        msg = MIMEMultipart()\n",
        "        msg['From'] = sender_email\n",
        "        msg['To'] = recipient_email\n",
        "        msg['Subject'] = subject\n",
        "\n",
        "# Add body to email\n",
        "        msg.attach(MIMEText(body, 'plain'))\n",
        "\n",
        "                # Connect to the server\n",
        "        server = smtplib.SMTP(smtp_server, port)\n",
        "        server.starttls()  # Secure the connection\n",
        "        server.login(sender_email, password)\n",
        "\n",
        "        # Send the email\n",
        "        server.sendmail(sender_email, recipient_email, msg.as_string())\n",
        "\n",
        "        # Disconnect from the server\n",
        "        server.quit()\n",
        "\n",
        "        print(f\"Email successfully sent to {recipient_email}\")\n",
        "    except Exception as e:\n",
        "        print(f\"Error sending email to {recipient_email}: {e}\")\n",
        "\n",
        "# Send emails to all recipients\n",
        "for recipient in recipients:\n",
        "    send_email(recipient)"
      ],
      "metadata": {
        "colab": {
          "base_uri": "https://localhost:8080/"
        },
        "id": "JTaEDcJtrw8H",
        "outputId": "d250ab06-be94-499d-d0a2-145662148176"
      },
      "execution_count": null,
      "outputs": [
        {
          "output_type": "stream",
          "name": "stdout",
          "text": [
            "Error sending email to sampurnsandesh@gmail.com: (535, b'5.7.8 Username and Password not accepted. For more information, go to\\n5.7.8  https://support.google.com/mail/?p=BadCredentials af79cd13be357-7a198fab2bfsm203173485a.6 - gsmtp')\n"
          ]
        }
      ]
    }
  ]
}